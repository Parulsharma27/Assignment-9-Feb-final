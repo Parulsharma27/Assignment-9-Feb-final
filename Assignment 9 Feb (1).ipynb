{
 "cells": [
  {
   "cell_type": "code",
   "execution_count": 12,
   "id": "8a4b7c86-ac56-4978-9ac1-508d1456e974",
   "metadata": {},
   "outputs": [
    {
     "data": {
      "text/plain": [
       "120"
      ]
     },
     "execution_count": 12,
     "metadata": {},
     "output_type": "execute_result"
    }
   ],
   "source": [
    "#\"\"\"Q1-Create a vehicle class with an init method having instance variables as name_of_vehicle, \n",
    "#max_speed and average_of_vehicle.\"\"\"\n",
    "\n",
    "class Vehicle:\n",
    "    def __init__(self,name_of_vehicle, max_speed, average_of_vehicle):\n",
    "        self.name_of_vehicle=name_of_vehicle\n",
    "        self. max_speed= max_speed\n",
    "        self.average_of_vehicle=average_of_vehicle\n",
    "        \n",
    "alto = Vehicle(\"alto\",120,45)\n",
    "alto.max_speed\n"
   ]
  },
  {
   "cell_type": "code",
   "execution_count": 53,
   "id": "f23c079b-f6ec-44d7-b61c-c7f17742a310",
   "metadata": {},
   "outputs": [
    {
     "ename": "IndentationError",
     "evalue": "expected an indented block after function definition on line 13 (4292710267.py, line 15)",
     "output_type": "error",
     "traceback": [
      "\u001b[0;36m  Cell \u001b[0;32mIn[53], line 15\u001b[0;36m\u001b[0m\n\u001b[0;31m    alto=child_car('alto',120,45)\u001b[0m\n\u001b[0m                                 ^\u001b[0m\n\u001b[0;31mIndentationError\u001b[0m\u001b[0;31m:\u001b[0m expected an indented block after function definition on line 13\n"
     ]
    }
   ],
   "source": [
    "#Q2. Create a child class car from the vehicle class created in Que 1, which will inherit the vehicle class.\n",
    "#Create a method named seating_capacity which takes capacity as an argument and returns the name of\n",
    "#the vehicle and its seating capacity.\n",
    "class Vehicle:\n",
    "    def __init__(self,name_of_vehicle,max_speed,average_of_vehicle):\n",
    "        self.name_of_vehicle=name_of_vehicle\n",
    "        self. max_speed= max_speed\n",
    "        self.average_of_vehicle=average_of_vehicle\n",
    "\n",
    "\n",
    "\n",
    "class child_car(Vehicle):\n",
    "    def seating_capacity(self,capacity=7):\n",
    "    \n",
    "alto=child_car('alto',120,45)\n",
    "\n",
    "\n",
    "\n",
    "alto.name_of_vehicle\n",
    "alto.capacity\n",
    "\n",
    "    "
   ]
  },
  {
   "cell_type": "code",
   "execution_count": 54,
   "id": "cc646d4d-3ec4-4e53-a569-e68ed9e8a076",
   "metadata": {},
   "outputs": [
    {
     "name": "stdout",
     "output_type": "stream",
     "text": [
      "The pet plays with its owner.\n",
      "The dog barks.\n",
      "Dog\n",
      "Buddy\n",
      "Golden Retriever\n"
     ]
    }
   ],
   "source": [
    "#Q3-Multiple inheritance is a feature in object-oriented programming where a class can inherit attributes and methods from more than one parent class. This allows a child class to combine the functionality of multiple parent classes.\n",
    "class Animal:\n",
    "    def __init__(self, species):\n",
    "        self.species = species\n",
    "    \n",
    "    def make_sound(self):\n",
    "        print(\"The animal makes a sound.\")\n",
    "\n",
    "class Pet:\n",
    "    def __init__(self, name):\n",
    "        self.name = name\n",
    "    \n",
    "    def play(self):\n",
    "        print(\"The pet plays with its owner.\")\n",
    "\n",
    "class Dog(Animal, Pet):\n",
    "    def __init__(self, breed, name):\n",
    "        Animal.__init__(self, \"Dog\")\n",
    "        Pet.__init__(self, name)\n",
    "        self.breed = breed\n",
    "    \n",
    "    def make_sound(self):\n",
    "        print(\"The dog barks.\")\n",
    "        \n",
    "my_dog = Dog(\"Golden Retriever\", \"Buddy\")\n",
    "my_dog.play()\n",
    "my_dog.make_sound()\n",
    "print(my_dog.species)\n",
    "print(my_dog.name)\n",
    "print(my_dog.breed)\n",
    "\n",
    "\n",
    "\n",
    "\n"
   ]
  },
  {
   "cell_type": "code",
   "execution_count": null,
   "id": "303c497d-cd9b-4079-b470-ed60ed02e017",
   "metadata": {},
   "outputs": [],
   "source": [
    "Q4-In Python, getter and setter methods are used to get and set the values of private instance variables in a class. The getter method returns the value of the variable, while the setter method sets the value of the variable after performing some validation checks or data manipulation.\n",
    "\n",
    "lass Person:\n",
    "    def __init__(self, name, age):\n",
    "        self._name = name\n",
    "        self._age = age\n",
    "    \n",
    "    def get_age(self):\n",
    "        return self._age\n",
    "    \n",
    "    def set_age(self, age):\n",
    "        if age < 0 or age > 120:\n",
    "            print(\"Invalid age\")\n",
    "        else:\n",
    "            self._age = age\n",
    "    \n",
    "    def get_name(self):\n",
    "        return self._name\n",
    "    \n",
    "    def set_name(self, name):\n",
    "        self._name = name"
   ]
  },
  {
   "cell_type": "code",
   "execution_count": null,
   "id": "488a1c8b-2497-40c2-9eae-4bec213af394",
   "metadata": {},
   "outputs": [],
   "source": [
    "Q5-Method overriding is a concept in object-oriented programming that allows a subclass to provide its own implementation of a method that is already defined in its parent class. When a method is overridden, the subclass method is executed instead of the parent class method with the same name.\n",
    "\n",
    "lass Animal:\n",
    "    def make_sound(self):\n",
    "        print(\"Generic animal sound\")\n",
    "        \n",
    "class Cat(Animal):\n",
    "    def make_sound(self):\n",
    "        print(\"Meow\")\n",
    "        \n",
    "class Dog(Animal):\n",
    "    def make_sound(self):\n",
    "        print(\"Woof\")\n",
    "        \n",
    "class Cow(Animal):\n",
    "    pass  # Cow does not override make_sound, so it inherits from Animal\n",
    "\n",
    "animal = Animal()\n",
    "cat = Cat()\n",
    "dog = Dog()\n",
    "cow = Cow()"
   ]
  },
  {
   "cell_type": "code",
   "execution_count": null,
   "id": "43c689fd-e083-4d23-a861-d4ed6b459c47",
   "metadata": {},
   "outputs": [],
   "source": []
  },
  {
   "cell_type": "code",
   "execution_count": null,
   "id": "457af6d9-79ba-4e53-a935-9c02056c69c4",
   "metadata": {},
   "outputs": [],
   "source": []
  },
  {
   "cell_type": "code",
   "execution_count": null,
   "id": "81a63092-17ab-40fe-8d29-d082b30b2d30",
   "metadata": {},
   "outputs": [],
   "source": []
  }
 ],
 "metadata": {
  "kernelspec": {
   "display_name": "Python 3 (ipykernel)",
   "language": "python",
   "name": "python3"
  },
  "language_info": {
   "codemirror_mode": {
    "name": "ipython",
    "version": 3
   },
   "file_extension": ".py",
   "mimetype": "text/x-python",
   "name": "python",
   "nbconvert_exporter": "python",
   "pygments_lexer": "ipython3",
   "version": "3.10.8"
  }
 },
 "nbformat": 4,
 "nbformat_minor": 5
}
